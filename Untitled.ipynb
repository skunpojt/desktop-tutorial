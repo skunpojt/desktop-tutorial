{
 "cells": [
  {
   "cell_type": "code",
   "execution_count": 1,
   "id": "60f29796-9e0f-441a-9f35-2710762ea97e",
   "metadata": {},
   "outputs": [
    {
     "name": "stdout",
     "output_type": "stream",
     "text": [
      "a\n"
     ]
    }
   ],
   "source": [
    "print('a')"
   ]
  },
  {
   "cell_type": "code",
   "execution_count": 3,
   "id": "23531aa2",
   "metadata": {},
   "outputs": [],
   "source": [
    "from fasthtml.common import *\n",
    "\n",
    "app,rt = fast_app()\n",
    "\n",
    "@rt('/')\n",
    "def get(): return Div(P('Hello World!'), hx_get=\"/change\")\n",
    "\n",
    "@rt('/change')\n",
    "def get(): return P('Nice to be here!')\n",
    "\n",
    "serve()"
   ]
  }
 ],
 "metadata": {
  "kernelspec": {
   "display_name": ".venv",
   "language": "python",
   "name": "python3"
  },
  "language_info": {
   "codemirror_mode": {
    "name": "ipython",
    "version": 3
   },
   "file_extension": ".py",
   "mimetype": "text/x-python",
   "name": "python",
   "nbconvert_exporter": "python",
   "pygments_lexer": "ipython3",
   "version": "3.12.3"
  }
 },
 "nbformat": 4,
 "nbformat_minor": 5
}
